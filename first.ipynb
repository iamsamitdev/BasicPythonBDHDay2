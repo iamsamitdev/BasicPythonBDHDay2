{
 "cells": [
  {
   "cell_type": "markdown",
   "id": "b1360a4a-1e09-4acc-b820-48f96feee42b",
   "metadata": {},
   "source": [
    "# ตัวอย่างการเขียนคำอธิบาย"
   ]
  },
  {
   "cell_type": "code",
   "execution_count": 20,
   "id": "6365e528-ca19-44ca-8434-6756dd7be309",
   "metadata": {},
   "outputs": [
    {
     "name": "stdout",
     "output_type": "stream",
     "text": [
      "Hello Python\n"
     ]
    }
   ],
   "source": [
    "print(\"Hello Python\")"
   ]
  },
  {
   "cell_type": "code",
   "execution_count": 21,
   "id": "36dfbbd0-c2f9-4727-b785-87e2eacd34b9",
   "metadata": {},
   "outputs": [],
   "source": [
    "name = \"Samit\""
   ]
  },
  {
   "cell_type": "code",
   "execution_count": 22,
   "id": "3aac554b-7439-46d4-999e-4c9c5c1ec026",
   "metadata": {},
   "outputs": [
    {
     "name": "stdout",
     "output_type": "stream",
     "text": [
      "Samit\n"
     ]
    }
   ],
   "source": [
    "print(name)"
   ]
  }
 ],
 "metadata": {
  "kernelspec": {
   "display_name": "Python 3 (ipykernel)",
   "language": "python",
   "name": "python3"
  },
  "language_info": {
   "codemirror_mode": {
    "name": "ipython",
    "version": 3
   },
   "file_extension": ".py",
   "mimetype": "text/x-python",
   "name": "python",
   "nbconvert_exporter": "python",
   "pygments_lexer": "ipython3",
   "version": "3.10.1"
  }
 },
 "nbformat": 4,
 "nbformat_minor": 5
}
